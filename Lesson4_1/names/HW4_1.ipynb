{
 "cells": [
  {
   "cell_type": "code",
   "execution_count": 1,
   "metadata": {
    "collapsed": true
   },
   "outputs": [],
   "source": [
    "import pandas as pd\n",
    "import numpy as np"
   ]
  },
  {
   "cell_type": "code",
   "execution_count": 2,
   "metadata": {
    "collapsed": true
   },
   "outputs": [],
   "source": [
    "FILE_PATH = '/Users/nicolas13/Lessons_Netology/Lesson4_1/names/'"
   ]
  },
  {
   "cell_type": "code",
   "execution_count": 3,
   "metadata": {},
   "outputs": [
    {
     "data": {
      "text/plain": [
       "['James', 'John', 'Robert']"
      ]
     },
     "execution_count": 3,
     "metadata": {},
     "output_type": "execute_result"
    }
   ],
   "source": [
    "def create_names(year, FILE_PATH):\n",
    "    path = FILE_PATH + 'yob' + str(year) +'.txt'\n",
    "    names = pd.read_csv(\n",
    "    path,\n",
    "    names = ['Name', 'Gender', 'Count']\n",
    ")\n",
    "    return names\n",
    "\n",
    "def count_top3(years):\n",
    "    for index, year in enumerate(years):\n",
    "        if index == 0:\n",
    "            names_all = create_names(year, FILE_PATH)\n",
    "        else:\n",
    "            names_all = pd.concat([names_all, create_names(year, FILE_PATH)])\n",
    "    return list(names_all.groupby('Name', as_index=False).agg({\"Count\": \"sum\"}).sort_values(by='Count', ascending=False).head(10).Name.values)[:3]\n",
    "\n",
    "count_top3([1900, 1950, 2000])\n"
   ]
  },
  {
   "cell_type": "code",
   "execution_count": 8,
   "metadata": {},
   "outputs": [
    {
     "data": {
      "text/html": [
       "<div>\n",
       "<style>\n",
       "    .dataframe thead tr:only-child th {\n",
       "        text-align: right;\n",
       "    }\n",
       "\n",
       "    .dataframe thead th {\n",
       "        text-align: left;\n",
       "    }\n",
       "\n",
       "    .dataframe tbody tr th {\n",
       "        vertical-align: top;\n",
       "    }\n",
       "</style>\n",
       "<table border=\"1\" class=\"dataframe\">\n",
       "  <thead>\n",
       "    <tr style=\"text-align: right;\">\n",
       "      <th></th>\n",
       "      <th>Gender</th>\n",
       "      <th>Count_x</th>\n",
       "      <th>Count_y</th>\n",
       "      <th>Count</th>\n",
       "    </tr>\n",
       "  </thead>\n",
       "  <tbody>\n",
       "    <tr>\n",
       "      <th>0</th>\n",
       "      <td>F</td>\n",
       "      <td>279397</td>\n",
       "      <td>1389147</td>\n",
       "      <td>670233</td>\n",
       "    </tr>\n",
       "    <tr>\n",
       "      <th>1</th>\n",
       "      <td>M</td>\n",
       "      <td>146387</td>\n",
       "      <td>1674575</td>\n",
       "      <td>1262400</td>\n",
       "    </tr>\n",
       "  </tbody>\n",
       "</table>\n",
       "</div>"
      ],
      "text/plain": [
       "  Gender  Count_x  Count_y    Count\n",
       "0      F   279397  1389147   670233\n",
       "1      M   146387  1674575  1262400"
      ]
     },
     "execution_count": 8,
     "metadata": {},
     "output_type": "execute_result"
    }
   ],
   "source": [
    "def count_dynamics(years):\n",
    "    for index, year in enumerate(years):\n",
    "        if index == 0:\n",
    "            names_all = create_names(year, FILE_PATH)\n",
    "        else:\n",
    "            names_all = pd.merge(names_all, create_names(year, FILE_PATH), on=['Name','Gender'])\n",
    "    return names_all.groupby(['Gender']).sum().reset_index()\n",
    "\n",
    "count_dynamics([1900, 1950, 2000])  "
   ]
  },
  {
   "cell_type": "code",
   "execution_count": null,
   "metadata": {
    "collapsed": true
   },
   "outputs": [],
   "source": []
  }
 ],
 "metadata": {
  "kernelspec": {
   "display_name": "Python 3",
   "language": "python",
   "name": "python3"
  },
  "language_info": {
   "codemirror_mode": {
    "name": "ipython",
    "version": 3
   },
   "file_extension": ".py",
   "mimetype": "text/x-python",
   "name": "python",
   "nbconvert_exporter": "python",
   "pygments_lexer": "ipython3",
   "version": "3.6.1"
  }
 },
 "nbformat": 4,
 "nbformat_minor": 2
}
